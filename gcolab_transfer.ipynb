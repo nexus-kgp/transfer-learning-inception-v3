{
 "cells": [
  {
   "cell_type": "code",
   "execution_count": 7,
   "metadata": {
    "colab": {
     "autoexec": {
      "startup": false,
      "wait_interval": 0
     },
     "base_uri": "https://localhost:8080/",
     "height": 136,
     "output_extras": [
      {
       "item_id": 36
      }
     ]
    },
    "colab_type": "code",
    "collapsed": false,
    "executionInfo": {
     "elapsed": 31313,
     "status": "ok",
     "timestamp": 1519928647487,
     "user": {
      "displayName": "Dibya Das",
      "photoUrl": "https://lh3.googleusercontent.com/a/default-user=s128",
      "userId": "108669385460818649766"
     },
     "user_tz": -330
    },
    "id": "eBXLuOIIyK5G",
    "outputId": "209e8dde-2965-4d02-ebfb-e0be44fd04a4"
   },
   "outputs": [
    {
     "name": "stdout",
     "output_type": "stream",
     "text": [
      "Collecting torch==0.3.1 from http://download.pytorch.org/whl/cu80/torch-0.3.1-cp36-cp36m-linux_x86_64.whl\n",
      "  Downloading http://download.pytorch.org/whl/cu80/torch-0.3.1-cp36-cp36m-linux_x86_64.whl (496.4MB)\n",
      "\u001b[K    100% |████████████████████████████████| 496.4MB 27.6MB/s \n",
      "\u001b[?25hRequirement already satisfied: numpy in /usr/local/lib/python3.6/dist-packages (from torch==0.3.1)\n",
      "Requirement already satisfied: pyyaml in /usr/local/lib/python3.6/dist-packages (from torch==0.3.1)\n",
      "Installing collected packages: torch\n",
      "Successfully installed torch-0.3.1\n"
     ]
    }
   ],
   "source": [
    "!pip3 install http://download.pytorch.org/whl/cu80/torch-0.3.1-cp36-cp36m-linux_x86_64.whl "
   ]
  },
  {
   "cell_type": "code",
   "execution_count": 8,
   "metadata": {
    "colab": {
     "autoexec": {
      "startup": false,
      "wait_interval": 0
     },
     "base_uri": "https://localhost:8080/",
     "height": 272,
     "output_extras": [
      {
       "item_id": 5
      }
     ]
    },
    "colab_type": "code",
    "collapsed": false,
    "executionInfo": {
     "elapsed": 5106,
     "status": "ok",
     "timestamp": 1519928652648,
     "user": {
      "displayName": "Dibya Das",
      "photoUrl": "https://lh3.googleusercontent.com/a/default-user=s128",
      "userId": "108669385460818649766"
     },
     "user_tz": -330
    },
    "id": "jRk7PNm1-p1U",
    "outputId": "3eb76e0c-eebf-4d24-dc30-f490e5e14d7e"
   },
   "outputs": [
    {
     "name": "stdout",
     "output_type": "stream",
     "text": [
      "Collecting torchvision\n",
      "  Downloading torchvision-0.2.0-py2.py3-none-any.whl (48kB)\n",
      "\u001b[K    100% |████████████████████████████████| 51kB 1.8MB/s \n",
      "\u001b[?25hRequirement already satisfied: six in /usr/local/lib/python3.6/dist-packages (from torchvision)\n",
      "Requirement already satisfied: numpy in /usr/local/lib/python3.6/dist-packages (from torchvision)\n",
      "Collecting pillow>=4.1.1 (from torchvision)\n",
      "  Downloading Pillow-5.0.0-cp36-cp36m-manylinux1_x86_64.whl (5.9MB)\n",
      "\u001b[K    100% |████████████████████████████████| 5.9MB 234kB/s \n",
      "\u001b[?25hRequirement already satisfied: torch in /usr/local/lib/python3.6/dist-packages (from torchvision)\n",
      "Requirement already satisfied: pyyaml in /usr/local/lib/python3.6/dist-packages (from torch->torchvision)\n",
      "Installing collected packages: pillow, torchvision\n",
      "  Found existing installation: Pillow 4.0.0\n",
      "    Uninstalling Pillow-4.0.0:\n",
      "      Successfully uninstalled Pillow-4.0.0\n",
      "Successfully installed pillow-5.0.0 torchvision-0.2.0\n"
     ]
    }
   ],
   "source": [
    "!pip3 install torchvision"
   ]
  },
  {
   "cell_type": "code",
   "execution_count": 9,
   "metadata": {
    "colab": {
     "autoexec": {
      "startup": false,
      "wait_interval": 0
     },
     "base_uri": "https://localhost:8080/",
     "height": 170,
     "output_extras": [
      {
       "item_id": 6
      }
     ]
    },
    "colab_type": "code",
    "collapsed": false,
    "executionInfo": {
     "elapsed": 4066,
     "status": "ok",
     "timestamp": 1519928656800,
     "user": {
      "displayName": "Dibya Das",
      "photoUrl": "https://lh3.googleusercontent.com/a/default-user=s128",
      "userId": "108669385460818649766"
     },
     "user_tz": -330
    },
    "id": "nS_TBGRZA969",
    "outputId": "bddeb734-a252-497f-f15e-2ec93431195e"
   },
   "outputs": [
    {
     "name": "stdout",
     "output_type": "stream",
     "text": [
      "Collecting Pillow==4.0.0\n",
      "  Downloading Pillow-4.0.0-cp36-cp36m-manylinux1_x86_64.whl (5.6MB)\n",
      "\u001b[K    100% |████████████████████████████████| 5.6MB 239kB/s \n",
      "\u001b[?25hRequirement already satisfied: olefile in /usr/local/lib/python3.6/dist-packages (from Pillow==4.0.0)\n",
      "Installing collected packages: Pillow\n",
      "  Found existing installation: Pillow 5.0.0\n",
      "    Uninstalling Pillow-5.0.0:\n",
      "      Successfully uninstalled Pillow-5.0.0\n",
      "Successfully installed Pillow-4.0.0\n"
     ]
    }
   ],
   "source": [
    "!pip install Pillow==4.0.0"
   ]
  },
  {
   "cell_type": "code",
   "execution_count": null,
   "metadata": {
    "colab": {
     "autoexec": {
      "startup": false,
      "wait_interval": 0
     }
    },
    "colab_type": "code",
    "collapsed": true,
    "id": "tlmNB2U5ydIk"
   },
   "outputs": [],
   "source": [
    "import torch"
   ]
  },
  {
   "cell_type": "code",
   "execution_count": null,
   "metadata": {
    "colab": {
     "autoexec": {
      "startup": false,
      "wait_interval": 0
     }
    },
    "colab_type": "code",
    "collapsed": true,
    "id": "FOjv24kUyz2m"
   },
   "outputs": [],
   "source": [
    "import numpy as np\n",
    "from torchvision import datasets, transforms\n",
    "import torchvision\n",
    "import torch\n",
    "import torch.optim as optim\n",
    "from torch.optim import lr_scheduler\n",
    "import torch.nn as nn\n",
    "import os\n",
    "from PIL import Image\n",
    "from torch.autograd import Variable"
   ]
  },
  {
   "cell_type": "code",
   "execution_count": 12,
   "metadata": {
    "colab": {
     "autoexec": {
      "startup": false,
      "wait_interval": 0
     },
     "base_uri": "https://localhost:8080/",
     "height": 71,
     "output_extras": [
      {
       "item_id": 7
      },
      {
       "item_id": 41
      }
     ]
    },
    "colab_type": "code",
    "collapsed": false,
    "executionInfo": {
     "elapsed": 68255,
     "status": "ok",
     "timestamp": 1519928737466,
     "user": {
      "displayName": "Dibya Das",
      "photoUrl": "https://lh3.googleusercontent.com/a/default-user=s128",
      "userId": "108669385460818649766"
     },
     "user_tz": -330
    },
    "id": "K1wqFV5D-mo8",
    "outputId": "f14def66-f9f9-4994-d84b-cd76539e0cbf"
   },
   "outputs": [
    {
     "name": "stderr",
     "output_type": "stream",
     "text": [
      "Downloading: \"https://download.pytorch.org/models/inception_v3_google-1a9a5a14.pth\" to /content/.torch/models/inception_v3_google-1a9a5a14.pth\n",
      "5.1%100.0%\n"
     ]
    }
   ],
   "source": [
    "model = torchvision.models.inception_v3(pretrained=True)   # import the pre-trained inception v3 model"
   ]
  },
  {
   "cell_type": "code",
   "execution_count": null,
   "metadata": {
    "colab": {
     "autoexec": {
      "startup": false,
      "wait_interval": 0
     }
    },
    "colab_type": "code",
    "collapsed": true,
    "id": "bgI66NEC-zo7"
   },
   "outputs": [],
   "source": [
    "for param in model.parameters():\n",
    "    param.requires_grad = False      # only the final layer is to be trained, hence their gradient is not required"
   ]
  },
  {
   "cell_type": "code",
   "execution_count": null,
   "metadata": {
    "colab": {
     "autoexec": {
      "startup": false,
      "wait_interval": 0
     }
    },
    "colab_type": "code",
    "collapsed": true,
    "id": "BYkCcPDi_Lix"
   },
   "outputs": [],
   "source": [
    "num_features = model.fc.in_features\n",
    "model.fc = nn.Linear(num_features,2)   # new no. of classes is 2 "
   ]
  },
  {
   "cell_type": "code",
   "execution_count": 17,
   "metadata": {
    "colab": {
     "autoexec": {
      "startup": false,
      "wait_interval": 0
     },
     "base_uri": "https://localhost:8080/",
     "height": 34,
     "output_extras": [
      {
       "item_id": 1
      }
     ]
    },
    "colab_type": "code",
    "collapsed": false,
    "executionInfo": {
     "elapsed": 1136,
     "status": "ok",
     "timestamp": 1519928765428,
     "user": {
      "displayName": "Dibya Das",
      "photoUrl": "https://lh3.googleusercontent.com/a/default-user=s128",
      "userId": "108669385460818649766"
     },
     "user_tz": -330
    },
    "id": "oVzj2Dxo_OXs",
    "outputId": "7d10cd9c-c067-445b-9901-d05bb81c564a"
   },
   "outputs": [
    {
     "name": "stdout",
     "output_type": "stream",
     "text": [
      "True\n"
     ]
    }
   ],
   "source": [
    "use_gpu = torch.cuda.is_available()\n",
    "print(use_gpu)\n",
    "if use_gpu:\n",
    "    model = model.cuda()       # using GPU for processing"
   ]
  },
  {
   "cell_type": "code",
   "execution_count": null,
   "metadata": {
    "colab": {
     "autoexec": {
      "startup": false,
      "wait_interval": 0
     }
    },
    "colab_type": "code",
    "collapsed": true,
    "id": "IgkEZOPv_PtD"
   },
   "outputs": [],
   "source": [
    "class Preprocess(object):    # the images in the train set are read in PIL format and the resized and converted to Tensors\n",
    "    \"\"\"Resize and convert PIL images to to Tensors.\"\"\"\n",
    "\n",
    "    def __call__(self, sample):\n",
    "        image = sample\n",
    "\n",
    "        image = image.resize((299,299),Image.NEAREST)\n",
    "        image = np.array(image,dtype='float32')\n",
    "        image = image.transpose()\n",
    "        image = torch.from_numpy(image)\n",
    "        return image\n"
   ]
  },
  {
   "cell_type": "code",
   "execution_count": null,
   "metadata": {
    "colab": {
     "autoexec": {
      "startup": false,
      "wait_interval": 0
     }
    },
    "colab_type": "code",
    "collapsed": true,
    "id": "nE5uANgF_SNO"
   },
   "outputs": [],
   "source": [
    "data_transform = transforms.Compose([    # the transform class to apply to each of the image being read\n",
    "        Preprocess()\n",
    "])"
   ]
  },
  {
   "cell_type": "code",
   "execution_count": 20,
   "metadata": {
    "colab": {
     "autoexec": {
      "startup": false,
      "wait_interval": 0
     },
     "base_uri": "https://localhost:8080/",
     "height": 204,
     "output_extras": [
      {
       "item_id": 3
      }
     ]
    },
    "colab_type": "code",
    "collapsed": false,
    "executionInfo": {
     "elapsed": 2062,
     "status": "ok",
     "timestamp": 1519928771823,
     "user": {
      "displayName": "Dibya Das",
      "photoUrl": "https://lh3.googleusercontent.com/a/default-user=s128",
      "userId": "108669385460818649766"
     },
     "user_tz": -330
    },
    "id": "6KL750tB_oDg",
    "outputId": "a0b4c6a5-efd3-4278-bf08-11374b17f34f"
   },
   "outputs": [
    {
     "name": "stdout",
     "output_type": "stream",
     "text": [
      "--2018-03-01 18:27:00--  https://raw.githubusercontent.com/nexus-kgp/transfer-learning-inception-v3/master/train_image.tar.gz\n",
      "Resolving raw.githubusercontent.com (raw.githubusercontent.com)... 151.101.0.133, 151.101.64.133, 151.101.128.133, ...\n",
      "Connecting to raw.githubusercontent.com (raw.githubusercontent.com)|151.101.0.133|:443... connected.\n",
      "HTTP request sent, awaiting response... 200 OK\n",
      "Length: 1914880 (1.8M) [application/octet-stream]\n",
      "Saving to: ‘train_image.tar.gz’\n",
      "\n",
      "train_image.tar.gz  100%[===================>]   1.83M  6.38MB/s    in 0.3s    \n",
      "\n",
      "2018-03-01 18:27:01 (6.38 MB/s) - ‘train_image.tar.gz’ saved [1914880/1914880]\n",
      "\n"
     ]
    }
   ],
   "source": [
    "!wget https://raw.githubusercontent.com/nexus-kgp/transfer-learning-inception-v3/master/train_image.tar.gz"
   ]
  },
  {
   "cell_type": "code",
   "execution_count": 21,
   "metadata": {
    "colab": {
     "autoexec": {
      "startup": false,
      "wait_interval": 0
     },
     "base_uri": "https://localhost:8080/",
     "height": 204,
     "output_extras": [
      {
       "item_id": 2
      }
     ]
    },
    "colab_type": "code",
    "collapsed": false,
    "executionInfo": {
     "elapsed": 2363,
     "status": "ok",
     "timestamp": 1519928787925,
     "user": {
      "displayName": "Dibya Das",
      "photoUrl": "https://lh3.googleusercontent.com/a/default-user=s128",
      "userId": "108669385460818649766"
     },
     "user_tz": -330
    },
    "id": "cImmxrOa0Iss",
    "outputId": "ffbf9da4-96db-4ab1-c764-49ade0400f7e"
   },
   "outputs": [
    {
     "name": "stdout",
     "output_type": "stream",
     "text": [
      "--2018-03-01 18:27:16--  https://raw.githubusercontent.com/nexus-kgp/transfer-learning-inception-v3/master/test_image.tar.gz\n",
      "Resolving raw.githubusercontent.com (raw.githubusercontent.com)... 151.101.0.133, 151.101.64.133, 151.101.128.133, ...\n",
      "Connecting to raw.githubusercontent.com (raw.githubusercontent.com)|151.101.0.133|:443... connected.\n",
      "HTTP request sent, awaiting response... 200 OK\n",
      "Length: 829440 (810K) [application/octet-stream]\n",
      "Saving to: ‘test_image.tar.gz’\n",
      "\n",
      "test_image.tar.gz   100%[===================>] 810.00K  --.-KB/s    in 0.1s    \n",
      "\n",
      "2018-03-01 18:27:16 (6.78 MB/s) - ‘test_image.tar.gz’ saved [829440/829440]\n",
      "\n"
     ]
    }
   ],
   "source": [
    "!wget https://raw.githubusercontent.com/nexus-kgp/transfer-learning-inception-v3/master/test_image.tar.gz"
   ]
  },
  {
   "cell_type": "code",
   "execution_count": 22,
   "metadata": {
    "colab": {
     "autoexec": {
      "startup": false,
      "wait_interval": 0
     },
     "base_uri": "https://localhost:8080/",
     "height": 11968,
     "output_extras": [
      {
       "item_id": 1
      }
     ]
    },
    "colab_type": "code",
    "collapsed": true,
    "executionInfo": {
     "elapsed": 1229,
     "status": "ok",
     "timestamp": 1519928791236,
     "user": {
      "displayName": "Dibya Das",
      "photoUrl": "https://lh3.googleusercontent.com/a/default-user=s128",
      "userId": "108669385460818649766"
     },
     "user_tz": -330
    },
    "id": "0XJnqw5J_si-",
    "outputId": "cd579049-ef9c-46be-d2fc-1cc19343a08f"
   },
   "outputs": [
    {
     "name": "stdout",
     "output_type": "stream",
     "text": [
      "train_image/\n",
      "train_image/socks/\n",
      "train_image/socks/n03026506_229.JPEG\n",
      "train_image/socks/n03026506_382.JPEG\n",
      "train_image/socks/n03026506_319.JPEG\n",
      "train_image/socks/n03026506_181.JPEG\n",
      "train_image/socks/n03026506_193.JPEG\n",
      "train_image/socks/n03026506_374.JPEG\n",
      "train_image/socks/n03026506_240.JPEG\n",
      "train_image/socks/n03026506_277.JPEG\n",
      "train_image/socks/n03026506_234.JPEG\n",
      "train_image/socks/n03026506_167.JPEG\n",
      "train_image/socks/n03026506_315.JPEG\n",
      "train_image/socks/n03026506_321.JPEG\n",
      "train_image/socks/n03026506_455.JPEG\n",
      "train_image/socks/n03026506_173.JPEG\n",
      "train_image/socks/n03026506_460.JPEG\n",
      "train_image/socks/n03026506_258.JPEG\n",
      "train_image/socks/n03026506_442.JPEG\n",
      "train_image/socks/n03026506_282.JPEG\n",
      "train_image/socks/n03026506_158.JPEG\n",
      "train_image/socks/n03026506_497.JPEG\n",
      "train_image/socks/n03026506_192.JPEG\n",
      "train_image/socks/n03026506_326.JPEG\n",
      "train_image/socks/n03026506_463.JPEG\n",
      "train_image/socks/n03026506_464.JPEG\n",
      "train_image/socks/n03026506_439.JPEG\n",
      "train_image/socks/n03026506_293.JPEG\n",
      "train_image/socks/n03026506_376.JPEG\n",
      "train_image/socks/n03026506_161.JPEG\n",
      "train_image/socks/n03026506_487.JPEG\n",
      "train_image/socks/n03026506_164.JPEG\n",
      "train_image/socks/n03026506_380.JPEG\n",
      "train_image/socks/n03026506_411.JPEG\n",
      "train_image/socks/n03026506_244.JPEG\n",
      "train_image/socks/n03026506_252.JPEG\n",
      "train_image/socks/n03026506_430.JPEG\n",
      "train_image/socks/n03026506_422.JPEG\n",
      "train_image/socks/n03026506_471.JPEG\n",
      "train_image/socks/n03026506_453.JPEG\n",
      "train_image/socks/n03026506_197.JPEG\n",
      "train_image/socks/n03026506_290.JPEG\n",
      "train_image/socks/n03026506_498.JPEG\n",
      "train_image/socks/n03026506_210.JPEG\n",
      "train_image/socks/n03026506_228.JPEG\n",
      "train_image/socks/n03026506_387.JPEG\n",
      "train_image/socks/n03026506_428.JPEG\n",
      "train_image/socks/n03026506_388.JPEG\n",
      "train_image/socks/n03026506_280.JPEG\n",
      "train_image/socks/n03026506_371.JPEG\n",
      "train_image/socks/n03026506_232.JPEG\n",
      "train_image/socks/n03026506_437.JPEG\n",
      "train_image/socks/n03026506_263.JPEG\n",
      "train_image/socks/n03026506_360.JPEG\n",
      "train_image/socks/n03026506_302.JPEG\n",
      "train_image/socks/n03026506_485.JPEG\n",
      "train_image/socks/n03026506_239.JPEG\n",
      "train_image/socks/n03026506_352.JPEG\n",
      "train_image/socks/n03026506_231.JPEG\n",
      "train_image/socks/n03026506_445.JPEG\n",
      "train_image/socks/n03026506_271.JPEG\n",
      "train_image/socks/n03026506_284.JPEG\n",
      "train_image/socks/n03026506_425.JPEG\n",
      "train_image/socks/n03026506_147.JPEG\n",
      "train_image/socks/n03026506_394.JPEG\n",
      "train_image/socks/n03026506_386.JPEG\n",
      "train_image/socks/n03026506_449.JPEG\n",
      "train_image/socks/n03026506_385.JPEG\n",
      "train_image/socks/n03026506_346.JPEG\n",
      "train_image/socks/n03026506_405.JPEG\n",
      "train_image/socks/n03026506_454.JPEG\n",
      "train_image/socks/n03026506_450.JPEG\n",
      "train_image/socks/n03026506_362.JPEG\n",
      "train_image/socks/n03026506_364.JPEG\n",
      "train_image/socks/n03026506_373.JPEG\n",
      "train_image/socks/n03026506_499.JPEG\n",
      "train_image/socks/n03026506_475.JPEG\n",
      "train_image/socks/n03026506_291.JPEG\n",
      "train_image/socks/n03026506_223.JPEG\n",
      "train_image/socks/n03026506_190.JPEG\n",
      "train_image/socks/n03026506_261.JPEG\n",
      "train_image/socks/n03026506_334.JPEG\n",
      "train_image/socks/n03026506_312.JPEG\n",
      "train_image/socks/n03026506_149.JPEG\n",
      "train_image/socks/n03026506_166.JPEG\n",
      "train_image/socks/n03026506_159.JPEG\n",
      "train_image/socks/n03026506_299.JPEG\n",
      "train_image/socks/n03026506_300.JPEG\n",
      "train_image/socks/n03026506_424.JPEG\n",
      "train_image/socks/n03026506_414.JPEG\n",
      "train_image/socks/n03026506_194.JPEG\n",
      "train_image/socks/n03026506_274.JPEG\n",
      "train_image/socks/n03026506_259.JPEG\n",
      "train_image/socks/n03026506_429.JPEG\n",
      "train_image/socks/n03026506_361.JPEG\n",
      "train_image/socks/n03026506_377.JPEG\n",
      "train_image/socks/n03026506_182.JPEG\n",
      "train_image/socks/n03026506_383.JPEG\n",
      "train_image/socks/n03026506_345.JPEG\n",
      "train_image/socks/n03026506_311.JPEG\n",
      "train_image/socks/n03026506_254.JPEG\n",
      "train_image/socks/n03026506_372.JPEG\n",
      "train_image/socks/n03026506_155.JPEG\n",
      "train_image/socks/n03026506_474.JPEG\n",
      "train_image/socks/n03026506_219.JPEG\n",
      "train_image/socks/n03026506_323.JPEG\n",
      "train_image/socks/n03026506_255.JPEG\n",
      "train_image/socks/n03026506_183.JPEG\n",
      "train_image/socks/n03026506_432.JPEG\n",
      "train_image/socks/n03026506_177.JPEG\n",
      "train_image/socks/n03026506_206.JPEG\n",
      "train_image/socks/n03026506_198.JPEG\n",
      "train_image/socks/n03026506_491.JPEG\n",
      "train_image/socks/n03026506_230.JPEG\n",
      "train_image/socks/n03026506_492.JPEG\n",
      "train_image/socks/n03026506_459.JPEG\n",
      "train_image/socks/n03026506_336.JPEG\n",
      "train_image/socks/n03026506_191.JPEG\n",
      "train_image/socks/n03026506_483.JPEG\n",
      "train_image/socks/n03026506_335.JPEG\n",
      "train_image/socks/n03026506_216.JPEG\n",
      "train_image/socks/n03026506_397.JPEG\n",
      "train_image/socks/n03026506_328.JPEG\n",
      "train_image/socks/n03026506_427.JPEG\n",
      "train_image/socks/n03026506_276.JPEG\n",
      "train_image/socks/n03026506_367.JPEG\n",
      "train_image/socks/n03026506_287.JPEG\n",
      "train_image/socks/n03026506_337.JPEG\n",
      "train_image/socks/n03026506_160.JPEG\n",
      "train_image/socks/n03026506_286.JPEG\n",
      "train_image/socks/n03026506_420.JPEG\n",
      "train_image/socks/n03026506_266.JPEG\n",
      "train_image/socks/n03026506_398.JPEG\n",
      "train_image/socks/n03026506_378.JPEG\n",
      "train_image/socks/n03026506_433.JPEG\n",
      "train_image/socks/n03026506_278.JPEG\n",
      "train_image/socks/n03026506_412.JPEG\n",
      "train_image/socks/n03026506_327.JPEG\n",
      "train_image/socks/n03026506_419.JPEG\n",
      "train_image/socks/n03026506_488.JPEG\n",
      "train_image/socks/n03026506_347.JPEG\n",
      "train_image/socks/n03026506_207.JPEG\n",
      "train_image/socks/n03026506_404.JPEG\n",
      "train_image/socks/n03026506_156.JPEG\n",
      "train_image/socks/n03026506_189.JPEG\n",
      "train_image/socks/n03026506_163.JPEG\n",
      "train_image/socks/n03026506_440.JPEG\n",
      "train_image/socks/n03026506_292.JPEG\n",
      "train_image/socks/n03026506_417.JPEG\n",
      "train_image/socks/n03026506_260.JPEG\n",
      "train_image/socks/n03026506_295.JPEG\n",
      "train_image/socks/n03026506_169.JPEG\n",
      "train_image/socks/n03026506_264.JPEG\n",
      "train_image/socks/n03026506_490.JPEG\n",
      "train_image/socks/n03026506_270.JPEG\n",
      "train_image/socks/n03026506_214.JPEG\n",
      "train_image/socks/n03026506_241.JPEG\n",
      "train_image/socks/n03026506_354.JPEG\n",
      "train_image/socks/n03026506_172.JPEG\n",
      "train_image/socks/n03026506_324.JPEG\n",
      "train_image/socks/n03026506_176.JPEG\n",
      "train_image/socks/n03026506_236.JPEG\n",
      "train_image/socks/n03026506_283.JPEG\n",
      "train_image/socks/n03026506_265.JPEG\n",
      "train_image/socks/n03026506_162.JPEG\n",
      "train_image/socks/n03026506_416.JPEG\n",
      "train_image/socks/n03026506_446.JPEG\n",
      "train_image/socks/n03026506_215.JPEG\n",
      "train_image/socks/n03026506_443.JPEG\n",
      "train_image/socks/n03026506_444.JPEG\n",
      "train_image/socks/n03026506_451.JPEG\n",
      "train_image/socks/n03026506_233.JPEG\n",
      "train_image/socks/n03026506_472.JPEG\n",
      "train_image/socks/n03026506_195.JPEG\n",
      "train_image/socks/n03026506_466.JPEG\n",
      "train_image/socks/n03026506_235.JPEG\n",
      "train_image/socks/n03026506_333.JPEG\n",
      "train_image/socks/n03026506_157.JPEG\n",
      "train_image/socks/n03026506_481.JPEG\n",
      "train_image/socks/n03026506_413.JPEG\n",
      "train_image/socks/n03026506_494.JPEG\n",
      "train_image/socks/n03026506_217.JPEG\n",
      "train_image/socks/n03026506_349.JPEG\n",
      "train_image/socks/n03026506_208.JPEG\n",
      "train_image/socks/n03026506_410.JPEG\n",
      "train_image/socks/n03026506_396.JPEG\n",
      "train_image/socks/n03026506_174.JPEG\n",
      "train_image/socks/n03026506_473.JPEG\n",
      "train_image/socks/n03026506_484.JPEG\n",
      "train_image/socks/n03026506_213.JPEG\n",
      "train_image/socks/n03026506_294.JPEG\n",
      "train_image/socks/n03026506_329.JPEG\n",
      "train_image/socks/n03026506_389.JPEG\n",
      "train_image/socks/n03026506_448.JPEG\n",
      "train_image/socks/n03026506_353.JPEG\n",
      "train_image/socks/n03026506_281.JPEG\n",
      "train_image/socks/n03026506_351.JPEG\n",
      "train_image/socks/n03026506_493.JPEG\n",
      "train_image/socks/n03026506_392.JPEG\n",
      "train_image/socks/n03026506_279.JPEG\n",
      "train_image/socks/n03026506_201.JPEG\n",
      "train_image/socks/n03026506_313.JPEG\n",
      "train_image/socks/n03026506_399.JPEG\n",
      "train_image/socks/n03026506_434.JPEG\n",
      "train_image/socks/n03026506_202.JPEG\n",
      "train_image/socks/n03026506_331.JPEG\n",
      "train_image/socks/n03026506_256.JPEG\n",
      "train_image/socks/n03026506_379.JPEG\n",
      "train_image/socks/n03026506_168.JPEG\n",
      "train_image/socks/n03026506_288.JPEG\n",
      "train_image/socks/n03026506_301.JPEG\n",
      "train_image/socks/n03026506_452.JPEG\n",
      "train_image/socks/n03026506_322.JPEG\n",
      "train_image/socks/n03026506_421.JPEG\n",
      "train_image/socks/n03026506_330.JPEG\n",
      "train_image/socks/n03026506_325.JPEG\n",
      "train_image/socks/n03026506_221.JPEG\n",
      "train_image/socks/n03026506_180.JPEG\n",
      "train_image/socks/n03026506_316.JPEG\n",
      "train_image/socks/n03026506_435.JPEG\n",
      "train_image/socks/n03026506_447.JPEG\n",
      "train_image/socks/n03026506_296.JPEG\n",
      "train_image/socks/n03026506_462.JPEG\n",
      "train_image/socks/n03026506_384.JPEG\n",
      "train_image/socks/n03026506_309.JPEG\n",
      "train_image/socks/n03026506_226.JPEG\n",
      "train_image/socks/n03026506_375.JPEG\n",
      "train_image/socks/n03026506_431.JPEG\n",
      "train_image/socks/n03026506_338.JPEG\n",
      "train_image/socks/n03026506_357.JPEG\n",
      "train_image/socks/n03026506_200.JPEG\n",
      "train_image/socks/n03026506_369.JPEG\n",
      "train_image/socks/n03026506_186.JPEG\n",
      "train_image/socks/n03026506_457.JPEG\n",
      "train_image/socks/n03026506_237.JPEG\n",
      "train_image/socks/n03026506_307.JPEG\n",
      "train_image/socks/n03026506_178.JPEG\n",
      "train_image/socks/n03026506_486.JPEG\n",
      "train_image/socks/n03026506_314.JPEG\n",
      "train_image/socks/n03026506_211.JPEG\n",
      "train_image/socks/n03026506_465.JPEG\n",
      "train_image/socks/n03026506_332.JPEG\n",
      "train_image/socks/n03026506_170.JPEG\n",
      "train_image/socks/n03026506_356.JPEG\n",
      "train_image/socks/n03026506_408.JPEG\n",
      "train_image/socks/n03026506_310.JPEG\n",
      "train_image/socks/n03026506_370.JPEG\n",
      "train_image/socks/n03026506_390.JPEG\n",
      "train_image/socks/n03026506_187.JPEG\n",
      "train_image/socks/n03026506_218.JPEG\n",
      "train_image/socks/n03026506_317.JPEG\n",
      "train_image/socks/n03026506_350.JPEG\n",
      "train_image/socks/n03026506_199.JPEG\n",
      "train_image/socks/n03026506_365.JPEG\n",
      "train_image/socks/n03026506_267.JPEG\n",
      "train_image/socks/n03026506_245.JPEG\n",
      "train_image/socks/n03026506_272.JPEG\n",
      "train_image/socks/n03026506_249.JPEG\n",
      "train_image/socks/n03026506_458.JPEG\n",
      "train_image/socks/n03026506_340.JPEG\n",
      "train_image/socks/n03026506_363.JPEG\n",
      "train_image/socks/n03026506_225.JPEG\n",
      "train_image/socks/n03026506_196.JPEG\n",
      "train_image/socks/n03026506_401.JPEG\n",
      "train_image/socks/n03026506_242.JPEG\n",
      "train_image/socks/n03026506_343.JPEG\n",
      "train_image/socks/n03026506_175.JPEG\n",
      "train_image/socks/n03026506_358.JPEG\n",
      "train_image/socks/n03026506_238.JPEG\n",
      "train_image/socks/n03026506_297.JPEG\n",
      "train_image/socks/n03026506_467.JPEG\n",
      "train_image/socks/n03026506_339.JPEG\n",
      "train_image/socks/n03026506_188.JPEG\n",
      "train_image/socks/n03026506_482.JPEG\n",
      "train_image/socks/n03026506_227.JPEG\n",
      "train_image/socks/n03026506_257.JPEG\n",
      "train_image/socks/n03026506_478.JPEG\n",
      "train_image/socks/n03026506_495.JPEG\n",
      "train_image/socks/n03026506_269.JPEG\n",
      "train_image/socks/n03026506_251.JPEG\n",
      "train_image/socks/n03026506_441.JPEG\n",
      "train_image/socks/n03026506_468.JPEG\n",
      "train_image/socks/n03026506_275.JPEG\n",
      "train_image/socks/n03026506_268.JPEG\n",
      "train_image/socks/n03026506_436.JPEG\n",
      "train_image/socks/n03026506_477.JPEG\n",
      "train_image/socks/n03026506_407.JPEG\n",
      "train_image/socks/n03026506_406.JPEG\n",
      "train_image/socks/n03026506_285.JPEG\n",
      "train_image/socks/n03026506_150.JPEG\n",
      "train_image/socks/n03026506_243.JPEG\n",
      "train_image/socks/n03026506_496.JPEG\n",
      "train_image/socks/n03026506_403.JPEG\n",
      "train_image/socks/n03026506_185.JPEG\n",
      "train_image/socks/n03026506_148.JPEG\n",
      "train_image/socks/n03026506_318.JPEG\n",
      "train_image/socks/n03026506_246.JPEG\n",
      "train_image/socks/n03026506_205.JPEG\n",
      "train_image/socks/n03026506_480.JPEG\n",
      "train_image/socks/n03026506_248.JPEG\n",
      "train_image/socks/n03026506_344.JPEG\n",
      "train_image/socks/n03026506_154.JPEG\n",
      "train_image/socks/n03026506_212.JPEG\n",
      "train_image/socks/n03026506_476.JPEG\n",
      "train_image/socks/n03026506_395.JPEG\n",
      "train_image/socks/n03026506_461.JPEG\n",
      "train_image/socks/n03026506_489.JPEG\n",
      "train_image/socks/n03026506_368.JPEG\n",
      "train_image/socks/n03026506_348.JPEG\n",
      "train_image/socks/n03026506_423.JPEG\n",
      "train_image/socks/n03026506_165.JPEG\n",
      "train_image/socks/n03026506_203.JPEG\n",
      "train_image/socks/n03026506_209.JPEG\n",
      "train_image/socks/n03026506_262.JPEG\n",
      "train_image/socks/n03026506_341.JPEG\n",
      "train_image/socks/n03026506_456.JPEG\n",
      "train_image/socks/n03026506_179.JPEG\n",
      "train_image/socks/n03026506_171.JPEG\n",
      "train_image/socks/n03026506_381.JPEG\n",
      "train_image/socks/n03026506_426.JPEG\n",
      "train_image/socks/n03026506_479.JPEG\n",
      "train_image/socks/n03026506_253.JPEG\n",
      "train_image/socks/n03026506_393.JPEG\n",
      "train_image/socks/n03026506_355.JPEG\n",
      "train_image/socks/n03026506_273.JPEG\n",
      "train_image/socks/n03026506_250.JPEG\n",
      "train_image/socks/n03026506_184.JPEG\n",
      "train_image/socks/n03026506_391.JPEG\n",
      "train_image/socks/n03026506_342.JPEG\n",
      "train_image/socks/n03026506_359.JPEG\n",
      "train_image/socks/n03026506_409.JPEG\n",
      "train_image/socks/n03026506_402.JPEG\n",
      "train_image/socks/n03026506_247.JPEG\n",
      "train_image/socks/n03026506_400.JPEG\n",
      "train_image/socks/n03026506_289.JPEG\n",
      "train_image/socks/n03026506_220.JPEG\n",
      "train_image/socks/n03026506_366.JPEG\n",
      "train_image/socks/n03026506_304.JPEG\n",
      "train_image/socks/n03026506_320.JPEG\n",
      "train_image/socks/n03026506_418.JPEG\n",
      "train_image/socks/n03026506_305.JPEG\n",
      "train_image/socks/n03026506_224.JPEG\n",
      "train_image/socks/n03026506_470.JPEG\n",
      "train_image/socks/n03026506_204.JPEG\n",
      "train_image/socks/n03026506_298.JPEG\n",
      "train_image/socks/n03026506_306.JPEG\n",
      "train_image/socks/n03026506_303.JPEG\n",
      "train_image/socks/n03026506_415.JPEG\n",
      "train_image/socks/n03026506_469.JPEG\n",
      "train_image/socks/n03026506_308.JPEG\n",
      "train_image/socks/n03026506_222.JPEG\n",
      "train_image/socks/n03026506_438.JPEG\n",
      "train_image/arch_bridge/\n",
      "train_image/arch_bridge/n04311004_249.JPEG\n",
      "train_image/arch_bridge/n04311004_411.JPEG\n",
      "train_image/arch_bridge/n04311004_177.JPEG\n",
      "train_image/arch_bridge/n04311004_481.JPEG\n",
      "train_image/arch_bridge/n04311004_309.JPEG\n",
      "train_image/arch_bridge/n04311004_452.JPEG\n",
      "train_image/arch_bridge/n04311004_322.JPEG\n",
      "train_image/arch_bridge/n04311004_271.JPEG\n",
      "train_image/arch_bridge/n04311004_339.JPEG\n",
      "train_image/arch_bridge/n04311004_284.JPEG\n",
      "train_image/arch_bridge/n04311004_181.JPEG\n",
      "train_image/arch_bridge/n04311004_376.JPEG\n",
      "train_image/arch_bridge/n04311004_435.JPEG\n",
      "train_image/arch_bridge/n04311004_210.JPEG\n",
      "train_image/arch_bridge/n04311004_369.JPEG\n",
      "train_image/arch_bridge/n04311004_173.JPEG\n",
      "train_image/arch_bridge/n04311004_351.JPEG\n",
      "train_image/arch_bridge/n04311004_212.JPEG\n",
      "train_image/arch_bridge/n04311004_379.JPEG\n",
      "train_image/arch_bridge/n04311004_417.JPEG\n",
      "train_image/arch_bridge/n04311004_450.JPEG\n",
      "train_image/arch_bridge/n04311004_385.JPEG\n",
      "train_image/arch_bridge/n04311004_317.JPEG\n",
      "train_image/arch_bridge/n04311004_468.JPEG\n",
      "train_image/arch_bridge/n04311004_341.JPEG\n",
      "train_image/arch_bridge/n04311004_277.JPEG\n",
      "train_image/arch_bridge/n04311004_302.JPEG\n",
      "train_image/arch_bridge/n04311004_310.JPEG\n",
      "train_image/arch_bridge/n04311004_446.JPEG\n",
      "train_image/arch_bridge/n04311004_218.JPEG\n",
      "train_image/arch_bridge/n04311004_170.JPEG\n",
      "train_image/arch_bridge/n04311004_373.JPEG\n",
      "train_image/arch_bridge/n04311004_357.JPEG\n",
      "train_image/arch_bridge/n04311004_272.JPEG\n",
      "train_image/arch_bridge/n04311004_206.JPEG\n",
      "train_image/arch_bridge/n04311004_154.JPEG\n",
      "train_image/arch_bridge/n04311004_454.JPEG\n",
      "train_image/arch_bridge/n04311004_405.JPEG\n",
      "train_image/arch_bridge/n04311004_299.JPEG\n",
      "train_image/arch_bridge/n04311004_193.JPEG\n",
      "train_image/arch_bridge/n04311004_356.JPEG\n",
      "train_image/arch_bridge/n04311004_326.JPEG\n",
      "train_image/arch_bridge/n04311004_459.JPEG\n",
      "train_image/arch_bridge/n04311004_156.JPEG\n",
      "train_image/arch_bridge/n04311004_493.JPEG\n",
      "train_image/arch_bridge/n04311004_166.JPEG\n",
      "train_image/arch_bridge/n04311004_327.JPEG\n",
      "train_image/arch_bridge/n04311004_230.JPEG\n",
      "train_image/arch_bridge/n04311004_294.JPEG\n",
      "train_image/arch_bridge/n04311004_334.JPEG\n",
      "train_image/arch_bridge/n04311004_158.JPEG\n",
      "train_image/arch_bridge/n04311004_183.JPEG\n",
      "train_image/arch_bridge/n04311004_428.JPEG\n",
      "train_image/arch_bridge/n04311004_155.JPEG\n",
      "train_image/arch_bridge/n04311004_304.JPEG\n",
      "train_image/arch_bridge/n04311004_268.JPEG\n",
      "train_image/arch_bridge/n04311004_214.JPEG\n",
      "train_image/arch_bridge/n04311004_469.JPEG\n",
      "train_image/arch_bridge/n04311004_221.JPEG\n",
      "train_image/arch_bridge/n04311004_219.JPEG\n",
      "train_image/arch_bridge/n04311004_495.JPEG\n",
      "train_image/arch_bridge/n04311004_233.JPEG\n",
      "train_image/arch_bridge/n04311004_347.JPEG\n",
      "train_image/arch_bridge/n04311004_361.JPEG\n",
      "train_image/arch_bridge/n04311004_289.JPEG\n",
      "train_image/arch_bridge/n04311004_202.JPEG\n",
      "train_image/arch_bridge/n04311004_234.JPEG\n",
      "train_image/arch_bridge/n04311004_456.JPEG\n",
      "train_image/arch_bridge/n04311004_392.JPEG\n",
      "train_image/arch_bridge/n04311004_182.JPEG\n",
      "train_image/arch_bridge/n04311004_338.JPEG\n",
      "train_image/arch_bridge/n04311004_398.JPEG\n",
      "train_image/arch_bridge/n04311004_492.JPEG\n",
      "train_image/arch_bridge/n04311004_370.JPEG\n",
      "train_image/arch_bridge/n04311004_248.JPEG\n",
      "train_image/arch_bridge/n04311004_463.JPEG\n",
      "train_image/arch_bridge/n04311004_340.JPEG\n",
      "train_image/arch_bridge/n04311004_422.JPEG\n",
      "train_image/arch_bridge/n04311004_458.JPEG\n",
      "train_image/arch_bridge/n04311004_478.JPEG\n",
      "train_image/arch_bridge/n04311004_352.JPEG\n",
      "train_image/arch_bridge/n04311004_240.JPEG\n",
      "train_image/arch_bridge/n04311004_296.JPEG\n",
      "train_image/arch_bridge/n04311004_367.JPEG\n",
      "train_image/arch_bridge/n04311004_406.JPEG\n",
      "train_image/arch_bridge/n04311004_380.JPEG\n",
      "train_image/arch_bridge/n04311004_390.JPEG\n",
      "train_image/arch_bridge/n04311004_228.JPEG\n",
      "train_image/arch_bridge/n04311004_244.JPEG\n",
      "train_image/arch_bridge/n04311004_378.JPEG\n",
      "train_image/arch_bridge/n04311004_278.JPEG\n",
      "train_image/arch_bridge/n04311004_238.JPEG\n",
      "train_image/arch_bridge/n04311004_336.JPEG\n",
      "train_image/arch_bridge/n04311004_366.JPEG\n",
      "train_image/arch_bridge/n04311004_281.JPEG\n",
      "train_image/arch_bridge/n04311004_215.JPEG\n",
      "train_image/arch_bridge/n04311004_229.JPEG\n",
      "train_image/arch_bridge/n04311004_337.JPEG\n",
      "train_image/arch_bridge/n04311004_342.JPEG\n",
      "train_image/arch_bridge/n04311004_393.JPEG\n",
      "train_image/arch_bridge/n04311004_283.JPEG\n",
      "train_image/arch_bridge/n04311004_145.JPEG\n",
      "train_image/arch_bridge/n04311004_496.JPEG\n",
      "train_image/arch_bridge/n04311004_374.JPEG\n",
      "train_image/arch_bridge/n04311004_279.JPEG\n",
      "train_image/arch_bridge/n04311004_270.JPEG\n",
      "train_image/arch_bridge/n04311004_438.JPEG\n",
      "train_image/arch_bridge/n04311004_399.JPEG\n",
      "train_image/arch_bridge/n04311004_440.JPEG\n",
      "train_image/arch_bridge/n04311004_433.JPEG\n",
      "train_image/arch_bridge/n04311004_188.JPEG\n",
      "train_image/arch_bridge/n04311004_419.JPEG\n",
      "train_image/arch_bridge/n04311004_490.JPEG\n",
      "train_image/arch_bridge/n04311004_377.JPEG\n",
      "train_image/arch_bridge/n04311004_186.JPEG\n",
      "train_image/arch_bridge/n04311004_197.JPEG\n",
      "train_image/arch_bridge/n04311004_305.JPEG\n",
      "train_image/arch_bridge/n04311004_176.JPEG\n",
      "train_image/arch_bridge/n04311004_318.JPEG\n",
      "train_image/arch_bridge/n04311004_160.JPEG\n",
      "train_image/arch_bridge/n04311004_315.JPEG\n",
      "train_image/arch_bridge/n04311004_387.JPEG\n",
      "train_image/arch_bridge/n04311004_282.JPEG\n",
      "train_image/arch_bridge/n04311004_328.JPEG\n",
      "train_image/arch_bridge/n04311004_293.JPEG\n",
      "train_image/arch_bridge/n04311004_266.JPEG\n",
      "train_image/arch_bridge/n04311004_396.JPEG\n",
      "train_image/arch_bridge/n04311004_464.JPEG\n",
      "train_image/arch_bridge/n04311004_359.JPEG\n",
      "train_image/arch_bridge/n04311004_362.JPEG\n",
      "train_image/arch_bridge/n04311004_153.JPEG\n",
      "train_image/arch_bridge/n04311004_192.JPEG\n",
      "train_image/arch_bridge/n04311004_252.JPEG\n",
      "train_image/arch_bridge/n04311004_263.JPEG\n",
      "train_image/arch_bridge/n04311004_209.JPEG\n",
      "train_image/arch_bridge/n04311004_402.JPEG\n",
      "train_image/arch_bridge/n04311004_189.JPEG\n",
      "train_image/arch_bridge/n04311004_242.JPEG\n",
      "train_image/arch_bridge/n04311004_179.JPEG\n",
      "train_image/arch_bridge/n04311004_386.JPEG\n",
      "train_image/arch_bridge/n04311004_316.JPEG\n",
      "train_image/arch_bridge/n04311004_262.JPEG\n",
      "train_image/arch_bridge/n04311004_343.JPEG\n",
      "train_image/arch_bridge/n04311004_253.JPEG\n",
      "train_image/arch_bridge/n04311004_162.JPEG\n",
      "train_image/arch_bridge/n04311004_348.JPEG\n",
      "train_image/arch_bridge/n04311004_191.JPEG\n",
      "train_image/arch_bridge/n04311004_251.JPEG\n",
      "train_image/arch_bridge/n04311004_247.JPEG\n",
      "train_image/arch_bridge/n04311004_287.JPEG\n",
      "train_image/arch_bridge/n04311004_420.JPEG\n",
      "train_image/arch_bridge/n04311004_159.JPEG\n",
      "train_image/arch_bridge/n04311004_211.JPEG\n",
      "train_image/arch_bridge/n04311004_448.JPEG\n",
      "train_image/arch_bridge/n04311004_241.JPEG\n",
      "train_image/arch_bridge/n04311004_184.JPEG\n",
      "train_image/arch_bridge/n04311004_216.JPEG\n",
      "train_image/arch_bridge/n04311004_298.JPEG\n",
      "train_image/arch_bridge/n04311004_408.JPEG\n",
      "train_image/arch_bridge/n04311004_460.JPEG\n",
      "train_image/arch_bridge/n04311004_256.JPEG\n",
      "train_image/arch_bridge/n04311004_484.JPEG\n",
      "train_image/arch_bridge/n04311004_344.JPEG\n",
      "train_image/arch_bridge/n04311004_483.JPEG\n",
      "train_image/arch_bridge/n04311004_308.JPEG\n",
      "train_image/arch_bridge/n04311004_275.JPEG\n",
      "train_image/arch_bridge/n04311004_401.JPEG\n",
      "train_image/arch_bridge/n04311004_475.JPEG\n",
      "train_image/arch_bridge/n04311004_164.JPEG\n",
      "train_image/arch_bridge/n04311004_273.JPEG\n",
      "train_image/arch_bridge/n04311004_274.JPEG\n",
      "train_image/arch_bridge/n04311004_384.JPEG\n",
      "train_image/arch_bridge/n04311004_430.JPEG\n",
      "train_image/arch_bridge/n04311004_324.JPEG\n",
      "train_image/arch_bridge/n04311004_410.JPEG\n",
      "train_image/arch_bridge/n04311004_441.JPEG\n",
      "train_image/arch_bridge/n04311004_286.JPEG\n",
      "train_image/arch_bridge/n04311004_389.JPEG\n",
      "train_image/arch_bridge/n04311004_394.JPEG\n",
      "train_image/arch_bridge/n04311004_311.JPEG\n",
      "train_image/arch_bridge/n04311004_320.JPEG\n",
      "train_image/arch_bridge/n04311004_414.JPEG\n",
      "train_image/arch_bridge/n04311004_167.JPEG\n",
      "train_image/arch_bridge/n04311004_472.JPEG\n",
      "train_image/arch_bridge/n04311004_222.JPEG\n",
      "train_image/arch_bridge/n04311004_264.JPEG\n",
      "train_image/arch_bridge/n04311004_437.JPEG\n",
      "train_image/arch_bridge/n04311004_451.JPEG\n",
      "train_image/arch_bridge/n04311004_345.JPEG\n",
      "train_image/arch_bridge/n04311004_313.JPEG\n",
      "train_image/arch_bridge/n04311004_255.JPEG\n",
      "train_image/arch_bridge/n04311004_208.JPEG\n",
      "train_image/arch_bridge/n04311004_494.JPEG\n",
      "train_image/arch_bridge/n04311004_178.JPEG\n",
      "train_image/arch_bridge/n04311004_499.JPEG\n",
      "train_image/arch_bridge/n04311004_306.JPEG\n",
      "train_image/arch_bridge/n04311004_258.JPEG\n",
      "train_image/arch_bridge/n04311004_335.JPEG\n",
      "train_image/arch_bridge/n04311004_300.JPEG\n",
      "train_image/arch_bridge/n04311004_307.JPEG\n",
      "train_image/arch_bridge/n04311004_439.JPEG\n",
      "train_image/arch_bridge/n04311004_407.JPEG\n",
      "train_image/arch_bridge/n04311004_332.JPEG\n",
      "train_image/arch_bridge/n04311004_163.JPEG\n",
      "train_image/arch_bridge/n04311004_353.JPEG\n",
      "train_image/arch_bridge/n04311004_365.JPEG\n",
      "train_image/arch_bridge/n04311004_467.JPEG\n",
      "train_image/arch_bridge/n04311004_321.JPEG\n",
      "train_image/arch_bridge/n04311004_329.JPEG\n",
      "train_image/arch_bridge/n04311004_491.JPEG\n",
      "train_image/arch_bridge/n04311004_198.JPEG\n",
      "train_image/arch_bridge/n04311004_261.JPEG\n",
      "train_image/arch_bridge/n04311004_269.JPEG\n",
      "train_image/arch_bridge/n04311004_487.JPEG\n",
      "train_image/arch_bridge/n04311004_444.JPEG\n",
      "train_image/arch_bridge/n04311004_250.JPEG\n",
      "train_image/arch_bridge/n04311004_292.JPEG\n",
      "train_image/arch_bridge/n04311004_243.JPEG\n",
      "train_image/arch_bridge/n04311004_190.JPEG\n",
      "train_image/arch_bridge/n04311004_187.JPEG\n",
      "train_image/arch_bridge/n04311004_314.JPEG\n",
      "train_image/arch_bridge/n04311004_445.JPEG\n",
      "train_image/arch_bridge/n04311004_461.JPEG\n",
      "train_image/arch_bridge/n04311004_412.JPEG\n",
      "train_image/arch_bridge/n04311004_409.JPEG\n",
      "train_image/arch_bridge/n04311004_265.JPEG\n",
      "train_image/arch_bridge/n04311004_205.JPEG\n",
      "train_image/arch_bridge/n04311004_498.JPEG\n",
      "train_image/arch_bridge/n04311004_232.JPEG\n",
      "train_image/arch_bridge/n04311004_325.JPEG\n",
      "train_image/arch_bridge/n04311004_226.JPEG\n",
      "train_image/arch_bridge/n04311004_465.JPEG\n",
      "train_image/arch_bridge/n04311004_196.JPEG\n",
      "train_image/arch_bridge/n04311004_285.JPEG\n",
      "train_image/arch_bridge/n04311004_199.JPEG\n",
      "train_image/arch_bridge/n04311004_489.JPEG\n",
      "train_image/arch_bridge/n04311004_372.JPEG\n",
      "train_image/arch_bridge/n04311004_447.JPEG\n",
      "train_image/arch_bridge/n04311004_470.JPEG\n",
      "train_image/arch_bridge/n04311004_423.JPEG\n",
      "train_image/arch_bridge/n04311004_260.JPEG\n",
      "train_image/arch_bridge/n04311004_224.JPEG\n",
      "train_image/arch_bridge/n04311004_383.JPEG\n",
      "train_image/arch_bridge/n04311004_416.JPEG\n",
      "train_image/arch_bridge/n04311004_443.JPEG\n",
      "train_image/arch_bridge/n04311004_301.JPEG\n",
      "train_image/arch_bridge/n04311004_290.JPEG\n",
      "train_image/arch_bridge/n04311004_180.JPEG\n",
      "train_image/arch_bridge/n04311004_203.JPEG\n",
      "train_image/arch_bridge/n04311004_235.JPEG\n",
      "train_image/arch_bridge/n04311004_354.JPEG\n",
      "train_image/arch_bridge/n04311004_431.JPEG\n",
      "train_image/arch_bridge/n04311004_276.JPEG\n",
      "train_image/arch_bridge/n04311004_223.JPEG\n",
      "train_image/arch_bridge/n04311004_426.JPEG\n",
      "train_image/arch_bridge/n04311004_303.JPEG\n",
      "train_image/arch_bridge/n04311004_175.JPEG\n",
      "train_image/arch_bridge/n04311004_488.JPEG\n",
      "train_image/arch_bridge/n04311004_349.JPEG\n",
      "train_image/arch_bridge/n04311004_157.JPEG\n",
      "train_image/arch_bridge/n04311004_257.JPEG\n",
      "train_image/arch_bridge/n04311004_217.JPEG\n",
      "train_image/arch_bridge/n04311004_220.JPEG\n",
      "train_image/arch_bridge/n04311004_171.JPEG\n",
      "train_image/arch_bridge/n04311004_421.JPEG\n",
      "train_image/arch_bridge/n04311004_404.JPEG\n",
      "train_image/arch_bridge/n04311004_397.JPEG\n",
      "train_image/arch_bridge/n04311004_375.JPEG\n",
      "train_image/arch_bridge/n04311004_473.JPEG\n",
      "train_image/arch_bridge/n04311004_297.JPEG\n",
      "train_image/arch_bridge/n04311004_453.JPEG\n",
      "train_image/arch_bridge/n04311004_391.JPEG\n",
      "train_image/arch_bridge/n04311004_432.JPEG\n",
      "train_image/arch_bridge/n04311004_462.JPEG\n",
      "train_image/arch_bridge/n04311004_466.JPEG\n",
      "train_image/arch_bridge/n04311004_413.JPEG\n",
      "train_image/arch_bridge/n04311004_457.JPEG\n",
      "train_image/arch_bridge/n04311004_200.JPEG\n",
      "train_image/arch_bridge/n04311004_246.JPEG\n",
      "train_image/arch_bridge/n04311004_319.JPEG\n",
      "train_image/arch_bridge/n04311004_259.JPEG\n",
      "train_image/arch_bridge/n04311004_358.JPEG\n",
      "train_image/arch_bridge/n04311004_254.JPEG\n",
      "train_image/arch_bridge/n04311004_194.JPEG\n",
      "train_image/arch_bridge/n04311004_213.JPEG\n",
      "train_image/arch_bridge/n04311004_333.JPEG\n",
      "train_image/arch_bridge/n04311004_471.JPEG\n",
      "train_image/arch_bridge/n04311004_395.JPEG\n",
      "train_image/arch_bridge/n04311004_231.JPEG\n",
      "train_image/arch_bridge/n04311004_429.JPEG\n",
      "train_image/arch_bridge/n04311004_360.JPEG\n",
      "train_image/arch_bridge/n04311004_381.JPEG\n",
      "train_image/arch_bridge/n04311004_400.JPEG\n",
      "train_image/arch_bridge/n04311004_169.JPEG\n",
      "train_image/arch_bridge/n04311004_364.JPEG\n",
      "train_image/arch_bridge/n04311004_195.JPEG\n",
      "train_image/arch_bridge/n04311004_237.JPEG\n",
      "train_image/arch_bridge/n04311004_330.JPEG\n",
      "train_image/arch_bridge/n04311004_207.JPEG\n",
      "train_image/arch_bridge/n04311004_346.JPEG\n",
      "train_image/arch_bridge/n04311004_239.JPEG\n",
      "train_image/arch_bridge/n04311004_363.JPEG\n",
      "train_image/arch_bridge/n04311004_388.JPEG\n",
      "train_image/arch_bridge/n04311004_474.JPEG\n",
      "train_image/arch_bridge/n04311004_280.JPEG\n",
      "train_image/arch_bridge/n04311004_371.JPEG\n",
      "train_image/arch_bridge/n04311004_442.JPEG\n",
      "train_image/arch_bridge/n04311004_291.JPEG\n",
      "train_image/arch_bridge/n04311004_225.JPEG\n",
      "train_image/arch_bridge/n04311004_449.JPEG\n",
      "train_image/arch_bridge/n04311004_295.JPEG\n",
      "train_image/arch_bridge/n04311004_312.JPEG\n",
      "train_image/arch_bridge/n04311004_427.JPEG\n",
      "train_image/arch_bridge/n04311004_355.JPEG\n",
      "train_image/arch_bridge/n04311004_477.JPEG\n",
      "train_image/arch_bridge/n04311004_144.JPEG\n",
      "train_image/arch_bridge/n04311004_288.JPEG\n",
      "train_image/arch_bridge/n04311004_236.JPEG\n",
      "train_image/arch_bridge/n04311004_455.JPEG\n",
      "train_image/arch_bridge/n04311004_146.JPEG\n",
      "train_image/arch_bridge/n04311004_174.JPEG\n",
      "train_image/arch_bridge/n04311004_436.JPEG\n",
      "train_image/arch_bridge/n04311004_434.JPEG\n",
      "train_image/arch_bridge/n04311004_480.JPEG\n",
      "train_image/arch_bridge/n04311004_482.JPEG\n",
      "train_image/arch_bridge/n04311004_497.JPEG\n",
      "train_image/arch_bridge/n04311004_201.JPEG\n",
      "train_image/arch_bridge/n04311004_227.JPEG\n",
      "train_image/arch_bridge/n04311004_267.JPEG\n",
      "train_image/arch_bridge/n04311004_382.JPEG\n",
      "train_image/arch_bridge/n04311004_165.JPEG\n",
      "train_image/arch_bridge/n04311004_418.JPEG\n",
      "train_image/arch_bridge/n04311004_425.JPEG\n",
      "train_image/arch_bridge/n04311004_323.JPEG\n",
      "train_image/arch_bridge/n04311004_168.JPEG\n",
      "train_image/arch_bridge/n04311004_415.JPEG\n",
      "train_image/arch_bridge/n04311004_172.JPEG\n",
      "train_image/arch_bridge/n04311004_403.JPEG\n",
      "train_image/arch_bridge/n04311004_476.JPEG\n",
      "train_image/arch_bridge/n04311004_479.JPEG\n",
      "train_image/arch_bridge/n04311004_368.JPEG\n",
      "train_image/arch_bridge/n04311004_245.JPEG\n",
      "train_image/arch_bridge/n04311004_204.JPEG\n",
      "train_image/arch_bridge/n04311004_350.JPEG\n",
      "train_image/arch_bridge/n04311004_185.JPEG\n",
      "train_image/arch_bridge/n04311004_486.JPEG\n",
      "train_image/arch_bridge/n04311004_331.JPEG\n",
      "train_image/arch_bridge/n04311004_161.JPEG\n",
      "train_image/arch_bridge/n04311004_485.JPEG\n",
      "train_image/arch_bridge/n04311004_424.JPEG\n"
     ]
    }
   ],
   "source": [
    "!tar xvf train_image.tar.gz"
   ]
  },
  {
   "cell_type": "code",
   "execution_count": 23,
   "metadata": {
    "colab": {
     "autoexec": {
      "startup": false,
      "wait_interval": 0
     },
     "base_uri": "https://localhost:8080/",
     "height": 5168,
     "output_extras": [
      {
       "item_id": 1
      }
     ]
    },
    "colab_type": "code",
    "collapsed": true,
    "executionInfo": {
     "elapsed": 1136,
     "status": "ok",
     "timestamp": 1519928810482,
     "user": {
      "displayName": "Dibya Das",
      "photoUrl": "https://lh3.googleusercontent.com/a/default-user=s128",
      "userId": "108669385460818649766"
     },
     "user_tz": -330
    },
    "id": "u1wqHQW90Nwq",
    "outputId": "197057c1-35dd-4056-d7a5-e9a01de97fff"
   },
   "outputs": [
    {
     "name": "stdout",
     "output_type": "stream",
     "text": [
      "test_image/\n",
      "test_image/socks/\n",
      "test_image/socks/n03026506_74.JPEG\n",
      "test_image/socks/n03026506_48.JPEG\n",
      "test_image/socks/n03026506_67.JPEG\n",
      "test_image/socks/n03026506_34.JPEG\n",
      "test_image/socks/n03026506_88.JPEG\n",
      "test_image/socks/n03026506_28.JPEG\n",
      "test_image/socks/n03026506_153.JPEG\n",
      "test_image/socks/n03026506_99.JPEG\n",
      "test_image/socks/n03026506_109.JPEG\n",
      "test_image/socks/n03026506_138.JPEG\n",
      "test_image/socks/n03026506_39.JPEG\n",
      "test_image/socks/n03026506_55.JPEG\n",
      "test_image/socks/n03026506_91.JPEG\n",
      "test_image/socks/n03026506_128.JPEG\n",
      "test_image/socks/n03026506_44.JPEG\n",
      "test_image/socks/n03026506_36.JPEG\n",
      "test_image/socks/n03026506_92.JPEG\n",
      "test_image/socks/n03026506_10.JPEG\n",
      "test_image/socks/n03026506_30.JPEG\n",
      "test_image/socks/n03026506_133.JPEG\n",
      "test_image/socks/n03026506_145.JPEG\n",
      "test_image/socks/n03026506_49.JPEG\n",
      "test_image/socks/n03026506_135.JPEG\n",
      "test_image/socks/n03026506_8.JPEG\n",
      "test_image/socks/n03026506_70.JPEG\n",
      "test_image/socks/n03026506_130.JPEG\n",
      "test_image/socks/n03026506_32.JPEG\n",
      "test_image/socks/n03026506_22.JPEG\n",
      "test_image/socks/n03026506_24.JPEG\n",
      "test_image/socks/n03026506_60.JPEG\n",
      "test_image/socks/n03026506_116.JPEG\n",
      "test_image/socks/n03026506_33.JPEG\n",
      "test_image/socks/n03026506_95.JPEG\n",
      "test_image/socks/n03026506_35.JPEG\n",
      "test_image/socks/n03026506_18.JPEG\n",
      "test_image/socks/n03026506_144.JPEG\n",
      "test_image/socks/n03026506_4.JPEG\n",
      "test_image/socks/n03026506_96.JPEG\n",
      "test_image/socks/n03026506_122.JPEG\n",
      "test_image/socks/n03026506_37.JPEG\n",
      "test_image/socks/n03026506_27.JPEG\n",
      "test_image/socks/n03026506_105.JPEG\n",
      "test_image/socks/n03026506_14.JPEG\n",
      "test_image/socks/n03026506_125.JPEG\n",
      "test_image/socks/n03026506_29.JPEG\n",
      "test_image/socks/n03026506_79.JPEG\n",
      "test_image/socks/n03026506_75.JPEG\n",
      "test_image/socks/n03026506_89.JPEG\n",
      "test_image/socks/n03026506_63.JPEG\n",
      "test_image/socks/n03026506_98.JPEG\n",
      "test_image/socks/n03026506_21.JPEG\n",
      "test_image/socks/n03026506_115.JPEG\n",
      "test_image/socks/n03026506_62.JPEG\n",
      "test_image/socks/n03026506_31.JPEG\n",
      "test_image/socks/n03026506_107.JPEG\n",
      "test_image/socks/n03026506_43.JPEG\n",
      "test_image/socks/n03026506_12.JPEG\n",
      "test_image/socks/n03026506_76.JPEG\n",
      "test_image/socks/n03026506_77.JPEG\n",
      "test_image/socks/n03026506_65.JPEG\n",
      "test_image/socks/n03026506_136.JPEG\n",
      "test_image/socks/n03026506_68.JPEG\n",
      "test_image/socks/n03026506_0.JPEG\n",
      "test_image/socks/n03026506_151.JPEG\n",
      "test_image/socks/n03026506_23.JPEG\n",
      "test_image/socks/n03026506_108.JPEG\n",
      "test_image/socks/n03026506_57.JPEG\n",
      "test_image/socks/n03026506_25.JPEG\n",
      "test_image/socks/n03026506_46.JPEG\n",
      "test_image/socks/n03026506_9.JPEG\n",
      "test_image/socks/n03026506_113.JPEG\n",
      "test_image/socks/n03026506_73.JPEG\n",
      "test_image/socks/n03026506_47.JPEG\n",
      "test_image/socks/n03026506_85.JPEG\n",
      "test_image/socks/n03026506_59.JPEG\n",
      "test_image/socks/n03026506_142.JPEG\n",
      "test_image/socks/n03026506_120.JPEG\n",
      "test_image/socks/n03026506_152.JPEG\n",
      "test_image/socks/n03026506_102.JPEG\n",
      "test_image/socks/n03026506_1.JPEG\n",
      "test_image/socks/n03026506_118.JPEG\n",
      "test_image/socks/n03026506_87.JPEG\n",
      "test_image/socks/n03026506_6.JPEG\n",
      "test_image/socks/n03026506_106.JPEG\n",
      "test_image/socks/n03026506_97.JPEG\n",
      "test_image/socks/n03026506_40.JPEG\n",
      "test_image/socks/n03026506_26.JPEG\n",
      "test_image/socks/n03026506_42.JPEG\n",
      "test_image/socks/n03026506_82.JPEG\n",
      "test_image/socks/n03026506_78.JPEG\n",
      "test_image/socks/n03026506_110.JPEG\n",
      "test_image/socks/n03026506_2.JPEG\n",
      "test_image/socks/n03026506_45.JPEG\n",
      "test_image/socks/n03026506_16.JPEG\n",
      "test_image/socks/n03026506_83.JPEG\n",
      "test_image/socks/n03026506_114.JPEG\n",
      "test_image/socks/n03026506_100.JPEG\n",
      "test_image/socks/n03026506_52.JPEG\n",
      "test_image/socks/n03026506_129.JPEG\n",
      "test_image/socks/n03026506_94.JPEG\n",
      "test_image/socks/n03026506_54.JPEG\n",
      "test_image/socks/n03026506_141.JPEG\n",
      "test_image/socks/n03026506_66.JPEG\n",
      "test_image/socks/n03026506_139.JPEG\n",
      "test_image/socks/n03026506_61.JPEG\n",
      "test_image/socks/n03026506_64.JPEG\n",
      "test_image/socks/n03026506_13.JPEG\n",
      "test_image/socks/n03026506_84.JPEG\n",
      "test_image/socks/n03026506_101.JPEG\n",
      "test_image/socks/n03026506_69.JPEG\n",
      "test_image/socks/n03026506_81.JPEG\n",
      "test_image/socks/n03026506_132.JPEG\n",
      "test_image/socks/n03026506_104.JPEG\n",
      "test_image/socks/n03026506_15.JPEG\n",
      "test_image/socks/n03026506_123.JPEG\n",
      "test_image/socks/n03026506_131.JPEG\n",
      "test_image/socks/n03026506_121.JPEG\n",
      "test_image/socks/n03026506_17.JPEG\n",
      "test_image/socks/n03026506_11.JPEG\n",
      "test_image/socks/n03026506_103.JPEG\n",
      "test_image/socks/n03026506_93.JPEG\n",
      "test_image/socks/n03026506_90.JPEG\n",
      "test_image/socks/n03026506_53.JPEG\n",
      "test_image/socks/n03026506_58.JPEG\n",
      "test_image/socks/n03026506_137.JPEG\n",
      "test_image/socks/n03026506_134.JPEG\n",
      "test_image/socks/n03026506_72.JPEG\n",
      "test_image/socks/n03026506_112.JPEG\n",
      "test_image/socks/n03026506_3.JPEG\n",
      "test_image/socks/n03026506_41.JPEG\n",
      "test_image/socks/n03026506_127.JPEG\n",
      "test_image/socks/n03026506_140.JPEG\n",
      "test_image/socks/n03026506_111.JPEG\n",
      "test_image/socks/n03026506_71.JPEG\n",
      "test_image/socks/n03026506_119.JPEG\n",
      "test_image/socks/n03026506_124.JPEG\n",
      "test_image/socks/n03026506_86.JPEG\n",
      "test_image/socks/n03026506_19.JPEG\n",
      "test_image/socks/n03026506_143.JPEG\n",
      "test_image/socks/n03026506_5.JPEG\n",
      "test_image/socks/n03026506_50.JPEG\n",
      "test_image/socks/n03026506_56.JPEG\n",
      "test_image/socks/n03026506_7.JPEG\n",
      "test_image/socks/n03026506_80.JPEG\n",
      "test_image/socks/n03026506_146.JPEG\n",
      "test_image/socks/n03026506_51.JPEG\n",
      "test_image/socks/n03026506_117.JPEG\n",
      "test_image/socks/n03026506_38.JPEG\n",
      "test_image/socks/n03026506_126.JPEG\n",
      "test_image/socks/n03026506_20.JPEG\n",
      "test_image/arch_bridge/\n",
      "test_image/arch_bridge/n04311004_9.JPEG\n",
      "test_image/arch_bridge/n04311004_140.JPEG\n",
      "test_image/arch_bridge/n04311004_117.JPEG\n",
      "test_image/arch_bridge/n04311004_40.JPEG\n",
      "test_image/arch_bridge/n04311004_56.JPEG\n",
      "test_image/arch_bridge/n04311004_128.JPEG\n",
      "test_image/arch_bridge/n04311004_75.JPEG\n",
      "test_image/arch_bridge/n04311004_19.JPEG\n",
      "test_image/arch_bridge/n04311004_126.JPEG\n",
      "test_image/arch_bridge/n04311004_35.JPEG\n",
      "test_image/arch_bridge/n04311004_34.JPEG\n",
      "test_image/arch_bridge/n04311004_103.JPEG\n",
      "test_image/arch_bridge/n04311004_4.JPEG\n",
      "test_image/arch_bridge/n04311004_111.JPEG\n",
      "test_image/arch_bridge/n04311004_3.JPEG\n",
      "test_image/arch_bridge/n04311004_86.JPEG\n",
      "test_image/arch_bridge/n04311004_85.JPEG\n",
      "test_image/arch_bridge/n04311004_43.JPEG\n",
      "test_image/arch_bridge/n04311004_147.JPEG\n",
      "test_image/arch_bridge/n04311004_59.JPEG\n",
      "test_image/arch_bridge/n04311004_94.JPEG\n",
      "test_image/arch_bridge/n04311004_72.JPEG\n",
      "test_image/arch_bridge/n04311004_84.JPEG\n",
      "test_image/arch_bridge/n04311004_123.JPEG\n",
      "test_image/arch_bridge/n04311004_125.JPEG\n",
      "test_image/arch_bridge/n04311004_39.JPEG\n",
      "test_image/arch_bridge/n04311004_116.JPEG\n",
      "test_image/arch_bridge/n04311004_70.JPEG\n",
      "test_image/arch_bridge/n04311004_38.JPEG\n",
      "test_image/arch_bridge/n04311004_17.JPEG\n",
      "test_image/arch_bridge/n04311004_79.JPEG\n",
      "test_image/arch_bridge/n04311004_24.JPEG\n",
      "test_image/arch_bridge/n04311004_30.JPEG\n",
      "test_image/arch_bridge/n04311004_25.JPEG\n",
      "test_image/arch_bridge/n04311004_107.JPEG\n",
      "test_image/arch_bridge/n04311004_65.JPEG\n",
      "test_image/arch_bridge/n04311004_89.JPEG\n",
      "test_image/arch_bridge/n04311004_53.JPEG\n",
      "test_image/arch_bridge/n04311004_21.JPEG\n",
      "test_image/arch_bridge/n04311004_138.JPEG\n",
      "test_image/arch_bridge/n04311004_136.JPEG\n",
      "test_image/arch_bridge/n04311004_150.JPEG\n",
      "test_image/arch_bridge/n04311004_141.JPEG\n",
      "test_image/arch_bridge/n04311004_81.JPEG\n",
      "test_image/arch_bridge/n04311004_102.JPEG\n",
      "test_image/arch_bridge/n04311004_63.JPEG\n",
      "test_image/arch_bridge/n04311004_98.JPEG\n",
      "test_image/arch_bridge/n04311004_45.JPEG\n",
      "test_image/arch_bridge/n04311004_149.JPEG\n",
      "test_image/arch_bridge/n04311004_54.JPEG\n",
      "test_image/arch_bridge/n04311004_31.JPEG\n",
      "test_image/arch_bridge/n04311004_131.JPEG\n",
      "test_image/arch_bridge/n04311004_110.JPEG\n",
      "test_image/arch_bridge/n04311004_11.JPEG\n",
      "test_image/arch_bridge/n04311004_26.JPEG\n",
      "test_image/arch_bridge/n04311004_58.JPEG\n",
      "test_image/arch_bridge/n04311004_42.JPEG\n",
      "test_image/arch_bridge/n04311004_92.JPEG\n",
      "test_image/arch_bridge/n04311004_18.JPEG\n",
      "test_image/arch_bridge/n04311004_74.JPEG\n",
      "test_image/arch_bridge/n04311004_69.JPEG\n",
      "test_image/arch_bridge/n04311004_91.JPEG\n",
      "test_image/arch_bridge/n04311004_87.JPEG\n",
      "test_image/arch_bridge/n04311004_49.JPEG\n",
      "test_image/arch_bridge/n04311004_115.JPEG\n",
      "test_image/arch_bridge/n04311004_77.JPEG\n",
      "test_image/arch_bridge/n04311004_57.JPEG\n",
      "test_image/arch_bridge/n04311004_130.JPEG\n",
      "test_image/arch_bridge/n04311004_1.JPEG\n",
      "test_image/arch_bridge/n04311004_50.JPEG\n",
      "test_image/arch_bridge/n04311004_105.JPEG\n",
      "test_image/arch_bridge/n04311004_96.JPEG\n",
      "test_image/arch_bridge/n04311004_44.JPEG\n",
      "test_image/arch_bridge/n04311004_135.JPEG\n",
      "test_image/arch_bridge/n04311004_13.JPEG\n",
      "test_image/arch_bridge/n04311004_73.JPEG\n",
      "test_image/arch_bridge/n04311004_112.JPEG\n",
      "test_image/arch_bridge/n04311004_78.JPEG\n",
      "test_image/arch_bridge/n04311004_37.JPEG\n",
      "test_image/arch_bridge/n04311004_46.JPEG\n",
      "test_image/arch_bridge/n04311004_80.JPEG\n",
      "test_image/arch_bridge/n04311004_52.JPEG\n",
      "test_image/arch_bridge/n04311004_106.JPEG\n",
      "test_image/arch_bridge/n04311004_129.JPEG\n",
      "test_image/arch_bridge/n04311004_8.JPEG\n",
      "test_image/arch_bridge/n04311004_151.JPEG\n",
      "test_image/arch_bridge/n04311004_55.JPEG\n",
      "test_image/arch_bridge/n04311004_6.JPEG\n",
      "test_image/arch_bridge/n04311004_148.JPEG\n",
      "test_image/arch_bridge/n04311004_15.JPEG\n",
      "test_image/arch_bridge/n04311004_28.JPEG\n",
      "test_image/arch_bridge/n04311004_133.JPEG\n",
      "test_image/arch_bridge/n04311004_114.JPEG\n",
      "test_image/arch_bridge/n04311004_122.JPEG\n",
      "test_image/arch_bridge/n04311004_134.JPEG\n",
      "test_image/arch_bridge/n04311004_66.JPEG\n",
      "test_image/arch_bridge/n04311004_23.JPEG\n",
      "test_image/arch_bridge/n04311004_67.JPEG\n",
      "test_image/arch_bridge/n04311004_60.JPEG\n",
      "test_image/arch_bridge/n04311004_90.JPEG\n",
      "test_image/arch_bridge/n04311004_51.JPEG\n",
      "test_image/arch_bridge/n04311004_143.JPEG\n",
      "test_image/arch_bridge/n04311004_22.JPEG\n",
      "test_image/arch_bridge/n04311004_137.JPEG\n",
      "test_image/arch_bridge/n04311004_5.JPEG\n",
      "test_image/arch_bridge/n04311004_119.JPEG\n",
      "test_image/arch_bridge/n04311004_99.JPEG\n",
      "test_image/arch_bridge/n04311004_88.JPEG\n",
      "test_image/arch_bridge/n04311004_113.JPEG\n",
      "test_image/arch_bridge/n04311004_14.JPEG\n",
      "test_image/arch_bridge/n04311004_100.JPEG\n",
      "test_image/arch_bridge/n04311004_7.JPEG\n",
      "test_image/arch_bridge/n04311004_76.JPEG\n",
      "test_image/arch_bridge/n04311004_139.JPEG\n",
      "test_image/arch_bridge/n04311004_71.JPEG\n",
      "test_image/arch_bridge/n04311004_47.JPEG\n",
      "test_image/arch_bridge/n04311004_12.JPEG\n",
      "test_image/arch_bridge/n04311004_27.JPEG\n",
      "test_image/arch_bridge/n04311004_10.JPEG\n",
      "test_image/arch_bridge/n04311004_104.JPEG\n",
      "test_image/arch_bridge/n04311004_108.JPEG\n",
      "test_image/arch_bridge/n04311004_36.JPEG\n",
      "test_image/arch_bridge/n04311004_68.JPEG\n",
      "test_image/arch_bridge/n04311004_20.JPEG\n",
      "test_image/arch_bridge/n04311004_127.JPEG\n",
      "test_image/arch_bridge/n04311004_118.JPEG\n",
      "test_image/arch_bridge/n04311004_29.JPEG\n",
      "test_image/arch_bridge/n04311004_83.JPEG\n",
      "test_image/arch_bridge/n04311004_142.JPEG\n",
      "test_image/arch_bridge/n04311004_41.JPEG\n",
      "test_image/arch_bridge/n04311004_109.JPEG\n",
      "test_image/arch_bridge/n04311004_82.JPEG\n",
      "test_image/arch_bridge/n04311004_132.JPEG\n",
      "test_image/arch_bridge/n04311004_101.JPEG\n",
      "test_image/arch_bridge/n04311004_95.JPEG\n",
      "test_image/arch_bridge/n04311004_61.JPEG\n",
      "test_image/arch_bridge/n04311004_0.JPEG\n",
      "test_image/arch_bridge/n04311004_120.JPEG\n",
      "test_image/arch_bridge/n04311004_32.JPEG\n",
      "test_image/arch_bridge/n04311004_64.JPEG\n",
      "test_image/arch_bridge/n04311004_121.JPEG\n",
      "test_image/arch_bridge/n04311004_97.JPEG\n",
      "test_image/arch_bridge/n04311004_2.JPEG\n",
      "test_image/arch_bridge/n04311004_152.JPEG\n",
      "test_image/arch_bridge/n04311004_124.JPEG\n",
      "test_image/arch_bridge/n04311004_62.JPEG\n",
      "test_image/arch_bridge/n04311004_33.JPEG\n",
      "test_image/arch_bridge/n04311004_48.JPEG\n",
      "test_image/arch_bridge/n04311004_16.JPEG\n",
      "test_image/arch_bridge/n04311004_93.JPEG\n"
     ]
    }
   ],
   "source": [
    "!tar xvf test_image.tar.gz"
   ]
  },
  {
   "cell_type": "code",
   "execution_count": null,
   "metadata": {
    "colab": {
     "autoexec": {
      "startup": false,
      "wait_interval": 0
     }
    },
    "colab_type": "code",
    "collapsed": true,
    "id": "yxSpcfQh_Tvs"
   },
   "outputs": [],
   "source": [
    "tiny_dataset = datasets.ImageFolder(root='train_image',transform=data_transform)  \n",
    "img_dataset = {'train':tiny_dataset}\n",
    "dataset_loader = torch.utils.data.DataLoader(tiny_dataset,\n",
    "                                             batch_size=4, shuffle=True,\n",
    "                                             num_workers=4)\n",
    "dataloaders = {'train':dataset_loader}"
   ]
  },
  {
   "cell_type": "code",
   "execution_count": null,
   "metadata": {
    "colab": {
     "autoexec": {
      "startup": false,
      "wait_interval": 0
     }
    },
    "colab_type": "code",
    "collapsed": true,
    "id": "Cx9ZJiovBnvQ"
   },
   "outputs": [],
   "source": [
    "criterion = nn.CrossEntropyLoss()\n",
    "optimizer = optim.Adam(model.fc.parameters(), lr=0.001) #momentum=0.9)\n",
    "exp_lr_scheduler = lr_scheduler.StepLR(optimizer, step_size=7, gamma=0.1)\n"
   ]
  },
  {
   "cell_type": "code",
   "execution_count": null,
   "metadata": {
    "colab": {
     "autoexec": {
      "startup": false,
      "wait_interval": 0
     }
    },
    "colab_type": "code",
    "collapsed": true,
    "id": "skF4SYoeCZni"
   },
   "outputs": [],
   "source": [
    "dataset_sizes = {'train':700}"
   ]
  },
  {
   "cell_type": "code",
   "execution_count": null,
   "metadata": {
    "colab": {
     "autoexec": {
      "startup": false,
      "wait_interval": 0
     }
    },
    "colab_type": "code",
    "collapsed": true,
    "id": "WwY4h1-nvuAW"
   },
   "outputs": [],
   "source": [
    "import time"
   ]
  },
  {
   "cell_type": "code",
   "execution_count": null,
   "metadata": {
    "colab": {
     "autoexec": {
      "startup": false,
      "wait_interval": 0
     }
    },
    "colab_type": "code",
    "collapsed": true,
    "id": "wOMTrFaCC7vZ"
   },
   "outputs": [],
   "source": [
    "def train_model(model, criterion, optimizer, scheduler, num_epochs=25):\n",
    "    losses = []\n",
    "    since = time.time()\n",
    "    best_model_wts = model.state_dict()\n",
    "    best_acc = 0.0\n",
    "    for epoch in range(num_epochs):\n",
    "        print('Epoch {}/{}'.format(epoch, num_epochs - 1))\n",
    "        print('-' * 10)\n",
    "        \n",
    "        # Each epoch has a training and validation phase\n",
    "        for phase in ['train']:\n",
    "            if phase == 'train':\n",
    "                scheduler.step()\n",
    "                model.train(True)  # Set model to training mode\n",
    "            else:\n",
    "                model.train(False)  # Set model to evaluate mode\n",
    "\n",
    "            \n",
    "            running_loss = 0.0\n",
    "            running_corrects = 0\n",
    "\n",
    "            # Iterate over data.\n",
    "            for data in dataloaders[phase]:\n",
    "                # get the inputs\n",
    "                inputs, labels = data\n",
    "            \n",
    "                # wrap them in Variable\n",
    "                if use_gpu:\n",
    "                    inputs = Variable(inputs.cuda())\n",
    "                    labels = Variable(labels.cuda())\n",
    "                else:\n",
    "                    inputs, labels = Variable(inputs), Variable(labels)\n",
    "\n",
    "                # zero the parameter gradients\n",
    "                optimizer.zero_grad()\n",
    "\n",
    "                # forward\n",
    "                outputs = model(inputs)\n",
    "            \n",
    "                _, preds = torch.max(outputs[0], 1)\n",
    "                loss = criterion(outputs[0], labels)\n",
    "\n",
    "                # backward + optimize only if in training phase\n",
    "                if phase == 'train':\n",
    "                    loss.backward()\n",
    "                    optimizer.step()\n",
    "\n",
    "                # statistics\n",
    "                running_loss += loss.data[0]\n",
    "                running_corrects += torch.sum(preds == labels).data[0]\n",
    "\n",
    "            epoch_loss = running_loss / dataset_sizes[phase]\n",
    "            epoch_acc = running_corrects / dataset_sizes[phase]\n",
    "            losses.append(epoch_loss)\n",
    "            print('{} Loss: {:.4f} Acc: {:.4f}'.format(\n",
    "                phase, epoch_loss, epoch_acc))\n",
    "\n",
    "            # deep copy the model\n",
    "            if phase == 'train' and epoch_acc > best_acc:\n",
    "                best_acc = epoch_acc\n",
    "                best_model_wts = model.state_dict()\n",
    "\n",
    "        print()\n",
    "\n",
    "    time_elapsed = time.time() - since\n",
    "    print('Training complete in {:.0f}m {:.0f}s'.format(\n",
    "        time_elapsed // 60, time_elapsed % 60))\n",
    "    print('Best val Acc: {:4f}'.format(best_acc))\n",
    "\n",
    "    # load best model weights\n",
    "    model.load_state_dict(best_model_wts)\n",
    "    return model, losses"
   ]
  },
  {
   "cell_type": "code",
   "execution_count": 47,
   "metadata": {
    "colab": {
     "autoexec": {
      "startup": false,
      "wait_interval": 0
     },
     "base_uri": "https://localhost:8080/",
     "height": 1751,
     "output_extras": [
      {
       "item_id": 26
      }
     ]
    },
    "colab_type": "code",
    "collapsed": false,
    "executionInfo": {
     "elapsed": 308012,
     "status": "ok",
     "timestamp": 1519930311331,
     "user": {
      "displayName": "Dibya Das",
      "photoUrl": "https://lh3.googleusercontent.com/a/default-user=s128",
      "userId": "108669385460818649766"
     },
     "user_tz": -330
    },
    "id": "igfIOJdhCKYK",
    "outputId": "0d6180d2-d71c-49de-d1f3-faba988f384a"
   },
   "outputs": [
    {
     "name": "stdout",
     "output_type": "stream",
     "text": [
      "Epoch 0/24\n",
      "----------\n",
      "train Loss: 0.0726 Acc: 0.8814\n",
      "\n",
      "Epoch 1/24\n",
      "----------\n",
      "train Loss: 0.0728 Acc: 0.8800\n",
      "\n",
      "Epoch 2/24\n",
      "----------\n",
      "train Loss: 0.0754 Acc: 0.8757\n",
      "\n",
      "Epoch 3/24\n",
      "----------\n",
      "train Loss: 0.0743 Acc: 0.8686\n",
      "\n",
      "Epoch 4/24\n",
      "----------\n",
      "train Loss: 0.0814 Acc: 0.8600\n",
      "\n",
      "Epoch 5/24\n",
      "----------\n",
      "train Loss: 0.0655 Acc: 0.8957\n",
      "\n",
      "Epoch 6/24\n",
      "----------\n",
      "train Loss: 0.0735 Acc: 0.8700\n",
      "\n",
      "Epoch 7/24\n",
      "----------\n",
      "train Loss: 0.0641 Acc: 0.9000\n",
      "\n",
      "Epoch 8/24\n",
      "----------\n",
      "train Loss: 0.0881 Acc: 0.8543\n",
      "\n",
      "Epoch 9/24\n",
      "----------\n",
      "train Loss: 0.0690 Acc: 0.8929\n",
      "\n",
      "Epoch 10/24\n",
      "----------\n",
      "train Loss: 0.0759 Acc: 0.8671\n",
      "\n",
      "Epoch 11/24\n",
      "----------\n",
      "train Loss: 0.0731 Acc: 0.8743\n",
      "\n",
      "Epoch 12/24\n",
      "----------\n",
      "train Loss: 0.0716 Acc: 0.8729\n",
      "\n",
      "Epoch 13/24\n",
      "----------\n",
      "train Loss: 0.0728 Acc: 0.8657\n",
      "\n",
      "Epoch 14/24\n",
      "----------\n",
      "train Loss: 0.0735 Acc: 0.8729\n",
      "\n",
      "Epoch 15/24\n",
      "----------\n",
      "train Loss: 0.0623 Acc: 0.8957\n",
      "\n",
      "Epoch 16/24\n",
      "----------\n",
      "train Loss: 0.0652 Acc: 0.8929\n",
      "\n",
      "Epoch 17/24\n",
      "----------\n",
      "train Loss: 0.0700 Acc: 0.8857\n",
      "\n",
      "Epoch 18/24\n",
      "----------\n",
      "train Loss: 0.0668 Acc: 0.8843\n",
      "\n",
      "Epoch 19/24\n",
      "----------\n",
      "train Loss: 0.0784 Acc: 0.8557\n",
      "\n",
      "Epoch 20/24\n",
      "----------\n",
      "train Loss: 0.0737 Acc: 0.8657\n",
      "\n",
      "Epoch 21/24\n",
      "----------\n",
      "train Loss: 0.0639 Acc: 0.9014\n",
      "\n",
      "Epoch 22/24\n",
      "----------\n",
      "train Loss: 0.0596 Acc: 0.9029\n",
      "\n",
      "Epoch 23/24\n",
      "----------\n",
      "train Loss: 0.0685 Acc: 0.8786\n",
      "\n",
      "Epoch 24/24\n",
      "----------\n",
      "train Loss: 0.0703 Acc: 0.8800\n",
      "\n",
      "Training complete in 5m 7s\n",
      "Best val Acc: 0.902857\n"
     ]
    }
   ],
   "source": [
    "model, losses2 = train_model(model, criterion, optimizer,exp_lr_scheduler, num_epochs=25)"
   ]
  },
  {
   "cell_type": "code",
   "execution_count": null,
   "metadata": {
    "colab": {
     "autoexec": {
      "startup": false,
      "wait_interval": 0
     }
    },
    "colab_type": "code",
    "collapsed": true,
    "id": "4qU1uagADEoQ"
   },
   "outputs": [],
   "source": [
    "%matplotlib inline\n",
    "import matplotlib.pyplot as plt"
   ]
  },
  {
   "cell_type": "code",
   "execution_count": 49,
   "metadata": {
    "colab": {
     "autoexec": {
      "startup": false,
      "wait_interval": 0
     },
     "base_uri": "https://localhost:8080/",
     "height": 282,
     "output_extras": [
      {
       "item_id": 1
      },
      {
       "item_id": 2
      }
     ]
    },
    "colab_type": "code",
    "collapsed": false,
    "executionInfo": {
     "elapsed": 1022,
     "status": "ok",
     "timestamp": 1519930367151,
     "user": {
      "displayName": "Dibya Das",
      "photoUrl": "https://lh3.googleusercontent.com/a/default-user=s128",
      "userId": "108669385460818649766"
     },
     "user_tz": -330
    },
    "id": "TRWnih8G4q2q",
    "outputId": "3601e439-4185-4ee8-9ec2-9c840eff1efd"
   },
   "outputs": [
    {
     "data": {
      "text/plain": [
       "[<matplotlib.lines.Line2D at 0x7fcb8b0f3630>]"
      ]
     },
     "execution_count": 49,
     "metadata": {
      "tags": []
     },
     "output_type": "execute_result"
    },
    {
     "data": {
      "image/png": "[encoded data removed]",
      "text/plain": [
       "<matplotlib.figure.Figure at 0x7fcb8b15fef0>"
      ]
     },
     "metadata": {
      "tags": []
     },
     "output_type": "display_data"
    }
   ],
   "source": [
    "plt.plot(losses + losses2)  # 50 epochs"
   ]
  },
  {
   "cell_type": "code",
   "execution_count": null,
   "metadata": {
    "colab": {
     "autoexec": {
      "startup": false,
      "wait_interval": 0
     }
    },
    "colab_type": "code",
    "collapsed": true,
    "id": "Tubb1MTA4vna"
   },
   "outputs": [],
   "source": []
  }
 ],
 "metadata": {
  "accelerator": "GPU",
  "colab": {
   "collapsed_sections": [],
   "default_view": {},
   "name": "transfer.ipynb",
   "provenance": [],
   "version": "0.3.2",
   "views": {}
  },
  "kernelspec": {
   "display_name": "Python 3",
   "language": "python",
   "name": "python3"
  },
  "language_info": {
   "codemirror_mode": {
    "name": "ipython",
    "version": 3
   },
   "file_extension": ".py",
   "mimetype": "text/x-python",
   "name": "python",
   "nbconvert_exporter": "python",
   "pygments_lexer": "ipython3",
   "version": "3.5.2"
  }
 },
 "nbformat": 4,
 "nbformat_minor": 2
}
